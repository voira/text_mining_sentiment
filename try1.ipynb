{
 "cells": [
  {
   "cell_type": "code",
   "execution_count": 17,
   "metadata": {},
   "outputs": [],
   "source": [
    "import numpy as np\n",
    "import pandas as pd\n",
    "import csv\n",
    "import random"
   ]
  },
  {
   "cell_type": "code",
   "execution_count": 87,
   "metadata": {},
   "outputs": [],
   "source": [
    "reviews, sentiments = [], []\n",
    "with open(\"c.csv\", \"r\", encoding=\"utf-8\") as f:\n",
    "    reader = csv.reader(f)\n",
    "    next(reader)\n",
    "    for row in reader:\n",
    "        reviews.append(row[0].lower())\n",
    "        sentiments.append(1 if row[1].strip().lower() == \"positive\" else 0)\n",
    "\n",
    "sentiments = np.array(sentiments)"
   ]
  },
  {
   "cell_type": "code",
   "execution_count": 88,
   "metadata": {},
   "outputs": [],
   "source": [
    "# split the data into training and testing sets 80-20\n",
    "\n",
    "train_reviews = reviews[:int(0.8 * len(reviews))]   # 80% of the data for training\n",
    "train_sentiments = sentiments[:int(0.8 * len(sentiments))]  # 80% of the data for training \n",
    "\n",
    "test_reviews = reviews[int(0.8 * len(reviews)):]  # 20% of the data for testing\n",
    "test_sentiments = sentiments[int(0.8 * len(sentiments)):]  # 20% of the data for testing\n"
   ]
  },
  {
   "cell_type": "code",
   "execution_count": null,
   "metadata": {},
   "outputs": [],
   "source": [
    "# create a function to train the model\n",
    "\n",
    "def train_naive_bayes(train_vectors, train_sentiments):\n",
    "    num_docs = train_vectors.shape[0]\n",
    "    num_words = train_vectors.shape[1]\n",
    "    \n",
    "    # calculate the prior probabilities\n",
    "    phi_y = np.sum(train_sentiments) / num_docs\n",
    "    phi_y0 = 1 - phi_y\n",
    "    \n",
    "    # calculate the conditional probabilities\n",
    "    phi_x_y1 = (np.sum(train_vectors[train_sentiments == 1], axis=0) + 1) / (np.sum(train_vectors[train_sentiments == 1]) + num_words)\n",
    "    phi_x_y0 = (np.sum(train_vectors[train_sentiments == 0], axis=0) + 1) / (np.sum(train_vectors[train_sentiments == 0]) + num_words)\n",
    "    \n",
    "    return phi_y, phi_y0, phi_x_y1, phi_x_y0\n",
    "\n",
    "phi_y, phi_y0, phi_x_y1, phi_x_y0 = train_naive_bayes(train_vectors, train_sentiments)\n",
    "\n",
    "# create a function to predict the sentiment of a review\n",
    "\n",
    "def predict_naive_bayes(test_vectors, phi_y, phi_y0, phi_x_y1, phi_x_y0):\n",
    "    y_pred = []\n",
    "    for vector in test_vectors:\n",
    "        p_y1 = np.sum(np.log(phi_x_y1) * vector) + np.log(phi_y)\n",
    "        p_y0 = np.sum(np.log(phi_x_y0) * vector) + np.log(phi_y0)\n",
    "        y_pred.append(1 if p_y1 > p_y0 else 0)\n",
    "    return y_pred\n",
    "\n",
    "y_pred = predict_naive_bayes(test_vectors, phi_y, phi_y0, phi_x_y1, phi_x_y0)\n",
    "\n",
    "# calculate the accuracy of the model\n",
    "\n",
    "accuracy = np.mean(y_pred == test_sentiments)\n",
    "\n",
    "print(f\"Accuracy: {accuracy:.2f}\")"
   ]
  },
  {
   "cell_type": "code",
   "execution_count": null,
   "metadata": {},
   "outputs": [],
   "source": [
    "# predict the sentiment of a new review\n",
    "\n",
    "def predict_review(review, phi_y, phi_y0, phi_x_y1, phi_x_y0, word2index):\n",
    "    vector = review_to_vector(review, word2index)\n",
    "    y_pred = predict_naive_bayes([vector], phi_y, phi_y0, phi_x_y1, phi_x_y0)\n",
    "    return \"Positive\" if y_pred[0] == 1 else \"Negative\"\n",
    "\n",
    "review = \"This is a great movie. I loved it.\"\n",
    "\n",
    "print(f\"Review: {review}\")\n",
    "\n",
    "sentiment = predict_review(review, phi_y, phi_y0, phi_x_y1, phi_x_y0, word2index)\n",
    "\n",
    "print(f\"Sentiment: {sentiment}\")\n",
    "\n",
    "review = \"This is a terrible movie. I hated it.\"\n",
    "\n",
    "print(f\"Review: {review}\")\n",
    "\n",
    "sentiment = predict_review(review, phi_y, phi_y0, phi_x_y1, phi_x_y0, word2index)\n",
    "\n",
    "print(f\"Sentiment: {sentiment}\")"
   ]
  }
 ],
 "metadata": {
  "kernelspec": {
   "display_name": "Python 3",
   "language": "python",
   "name": "python3"
  },
  "language_info": {
   "codemirror_mode": {
    "name": "ipython",
    "version": 3
   },
   "file_extension": ".py",
   "mimetype": "text/x-python",
   "name": "python",
   "nbconvert_exporter": "python",
   "pygments_lexer": "ipython3",
   "version": "3.12.7"
  }
 },
 "nbformat": 4,
 "nbformat_minor": 2
}
